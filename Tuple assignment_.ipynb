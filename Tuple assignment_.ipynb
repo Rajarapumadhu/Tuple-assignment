{
 "cells": [
  {
   "cell_type": "markdown",
   "id": "61914972",
   "metadata": {},
   "source": [
    "# Find elements frequency in Tuple"
   ]
  },
  {
   "cell_type": "code",
   "execution_count": 1,
   "id": "5187502d",
   "metadata": {},
   "outputs": [
    {
     "data": {
      "text/plain": [
       "{4: 2, 5: 3, 6: 2}"
      ]
     },
     "execution_count": 1,
     "metadata": {},
     "output_type": "execute_result"
    }
   ],
   "source": [
    "t = (4,5,4,5,6,6,5)\n",
    "s = dict()\n",
    "x=list(t)\n",
    "for i in x:\n",
    "    s[i]=x.count(i)\n",
    "s"
   ]
  },
  {
   "cell_type": "markdown",
   "id": "8030cc31",
   "metadata": {},
   "source": [
    "# Python program to sort a list of tuple alphabetically"
   ]
  },
  {
   "cell_type": "code",
   "execution_count": 2,
   "id": "6175b7af",
   "metadata": {},
   "outputs": [
    {
     "name": "stdout",
     "output_type": "stream",
     "text": [
      "[('aa', 30), ('aaaa', 28), ('bab', 29), ('bb', 21), ('csa', 'c')]\n"
     ]
    }
   ],
   "source": [
    "def sort_tuple(t1):\n",
    "    t1.sort(key = lambda x: x[0])\n",
    "    return t1\n",
    "t1=[(\"aaaa\", 28), (\"aa\", 30), (\"bab\", 29), (\"bb\",21), (\"csa\", \"c\")]\n",
    "print(sort_tuple(t1))"
   ]
  },
  {
   "cell_type": "markdown",
   "id": "9d698f78",
   "metadata": {},
   "source": [
    "# Write a Python program to calculate the average valu of the\n",
    " a given tuple of tuple"
   ]
  },
  {
   "cell_type": "code",
   "execution_count": 4,
   "id": "77cc3f0e",
   "metadata": {},
   "outputs": [
    {
     "data": {
      "text/plain": [
       "[25.5, -18.0, 3.75]"
      ]
     },
     "execution_count": 4,
     "metadata": {},
     "output_type": "execute_result"
    }
   ],
   "source": [
    "def average_tuple(nums):\n",
    "    result = [sum(x) / len(x) for x in zip(*nums)]\n",
    "    return result\n",
    "\n",
    "nums = ((1,1, -5), (30, -15, 56), (81, -60, -39), (-10, 2,3))\n",
    "average_tuple(nums)"
   ]
  },
  {
   "cell_type": "code",
   "execution_count": null,
   "id": "3ab788f6",
   "metadata": {},
   "outputs": [],
   "source": []
  }
 ],
 "metadata": {
  "kernelspec": {
   "display_name": "Python 3 (ipykernel)",
   "language": "python",
   "name": "python3"
  },
  "language_info": {
   "codemirror_mode": {
    "name": "ipython",
    "version": 3
   },
   "file_extension": ".py",
   "mimetype": "text/x-python",
   "name": "python",
   "nbconvert_exporter": "python",
   "pygments_lexer": "ipython3",
   "version": "3.9.13"
  }
 },
 "nbformat": 4,
 "nbformat_minor": 5
}
